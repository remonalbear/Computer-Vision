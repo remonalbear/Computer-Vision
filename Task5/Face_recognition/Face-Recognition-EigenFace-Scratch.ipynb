{
 "cells": [
  {
   "cell_type": "code",
   "execution_count": 36,
   "metadata": {},
   "outputs": [],
   "source": [
    "import os, glob\n",
    "from sklearn import preprocessing\n",
    "import cv2\n",
    "import numpy as np\n",
    "import matplotlib.pyplot as plt\n",
    "import math\n"
   ]
  },
  {
   "cell_type": "code",
   "execution_count": 37,
   "metadata": {},
   "outputs": [],
   "source": [
    "\n",
    "def plot_image(images, titles, h,w,n_row,n_col):\n",
    "    plt.figure(figsize=(2.2*n_col,2.2*n_row))\n",
    "    plt.subplots_adjust(bottom=0,left=.01,right=.99,top=.90,hspace=.20)\n",
    "    for i in range(n_row*n_col):\n",
    "        plt.subplot(n_row,n_col,i+1)\n",
    "        plt.imshow(images[i].reshape((h,w)),cmap=plt.cm.gray)\n",
    "        plt.title(titles[i])\n",
    "        plt.xticks(())\n",
    "        plt.yticks(())"
   ]
  },
  {
   "cell_type": "code",
   "execution_count": 38,
   "metadata": {},
   "outputs": [],
   "source": [
    "# dataset_path = os.getcwd()+'/FaceDataset/'# path to the dataset\n",
    "dataset_path = 'DataSet'"
   ]
  },
  {
   "cell_type": "code",
   "execution_count": 39,
   "metadata": {},
   "outputs": [
    {
     "name": "stdout",
     "output_type": "stream",
     "text": [
      "400\n"
     ]
    }
   ],
   "source": [
    "tot_images =0\n",
    "shape = None\n",
    "# print(glob.glob(dataset_path))\n",
    "for images in glob.glob(dataset_path+'\\*\\*' , recursive=False):#Loop through all the images in the folder\n",
    "#     print(images)\n",
    "    if images[-3:] == 'pgm' or images[-3:] == 'jpg':\n",
    "        tot_images += 1\n",
    "print(tot_images)#Number of m is 400"
   ]
  },
  {
   "cell_type": "code",
   "execution_count": null,
   "metadata": {},
   "outputs": [],
   "source": []
  },
  {
   "cell_type": "code",
   "execution_count": 40,
   "metadata": {},
   "outputs": [],
   "source": [
    "shape = (112,92)#height of the image is 112 and width is 92\n",
    "all_img = np.zeros((tot_images,shape[0],shape[1]),dtype='float64')#Creating 0 matrix with 112 rows and 92 columns of zeros for 400 images\n",
    "names = list()\n",
    "i=0\n",
    "for folder in glob.glob(dataset_path + '\\*'):#Loop through folders\n",
    "    for _ in range(10):\n",
    "        names.append(folder[-3:].replace('/',''))\n",
    "    for image in glob.glob(folder +'/*'):#Loop through images\n",
    "        read_image = cv2.imread(image,cv2.IMREAD_GRAYSCALE)\n",
    "        resized_image =cv2.resize(read_image,(shape[1],shape[0]))#cv2.resize resizes an image into (# column x # height)\n",
    "        all_img[i]=np.array(resized_image)\n",
    "        i+=1\n",
    "        "
   ]
  },
  {
   "cell_type": "code",
   "execution_count": 41,
   "metadata": {},
   "outputs": [],
   "source": [
    "A = np.resize(all_img,(tot_images,shape[0]*shape[1]))#Creating a matrix of n^2 x m\n",
    "mean_vector = np.sum(A,axis=0,dtype='float64')/tot_images\n",
    "mean_matrix = np.tile(mean_vector,(tot_images,1))#Calculating mean for all the 400 images\n",
    "A_tilde = A - mean_matrix# Matrix A - the mean value of all the images"
   ]
  },
  {
   "cell_type": "code",
   "execution_count": 42,
   "metadata": {},
   "outputs": [],
   "source": [
    "L =(A_tilde.dot(A_tilde.T))/tot_images#Creating a m x m symmetric matrix\n",
    "eigenvalues,eigenvectors = np.linalg.eig(L)# Calculating the eigenvalues and eigenvectors\n",
    "idx = eigenvalues.argsort()[::-1]#sort eigenvalues in descending order\n",
    "eigenvalues = eigenvalues[idx]\n",
    "eigenvectors = eigenvectors[:,idx]#Sort the eigenvectors according to the highest eigenvalues"
   ]
  },
  {
   "cell_type": "code",
   "execution_count": 43,
   "metadata": {},
   "outputs": [],
   "source": [
    "eigenvector_C = A_tilde.T @ eigenvectors# perform linear combination with Matrix A_tilde"
   ]
  },
  {
   "cell_type": "code",
   "execution_count": 44,
   "metadata": {},
   "outputs": [],
   "source": [
    "eigenfaces = preprocessing.normalize(eigenvector_C.T)#Normalize the vector"
   ]
  },
  {
   "cell_type": "code",
   "execution_count": 45,
   "metadata": {},
   "outputs": [],
   "source": [
    "eigenface_labels = [x for x in range(eigenfaces.shape[0])]#List of images \n",
    "# plot_image(eigenfaces,eigenface_labels,112,92,2,10)#Display image using eigenvectors for each image"
   ]
  },
  {
   "cell_type": "code",
   "execution_count": 51,
   "metadata": {},
   "outputs": [],
   "source": [
    "test_img = cv2.imread('test.pgm', cv2.IMREAD_GRAYSCALE)\n",
    "test_img = cv2.resize(test_img,(shape[1],shape[0]))#resize the test image to 92 x 112\n",
    "mean_sub_testimg=np.reshape(test_img,(test_img.shape[0]*test_img.shape[1]))-mean_vector#Subtract test image with the mean value\n",
    "# plt.imshow(np.reshape(mean_sub_testimg,(112,92)),cmap='gray')\n",
    "# plt.title(\"Mean Subtracted Test Image\")\n",
    "# plt.show()"
   ]
  },
  {
   "cell_type": "code",
   "execution_count": 52,
   "metadata": {},
   "outputs": [],
   "source": [
    "q=350 # 350 eigenvectors is chosen\n",
    "E = eigenfaces[:q].dot(mean_sub_testimg)#Projecting the test image into the face space"
   ]
  },
  {
   "cell_type": "code",
   "execution_count": 53,
   "metadata": {},
   "outputs": [],
   "source": [
    "reconstruction = eigenfaces[:q].T.dot(E)#Reconstruct the test image using eigenvectors\n",
    "# reconstruction.shape\n",
    "\n",
    "# plt.imshow(np.reshape(reconstruction,(shape[0],shape[1])),cmap='gray')\n",
    "# plt.title(\"Reconstructed image -\"+ str(q)+\" eigenfaces\")\n",
    "# plt.show()"
   ]
  },
  {
   "cell_type": "code",
   "execution_count": 54,
   "metadata": {},
   "outputs": [
    {
     "name": "stdout",
     "output_type": "stream",
     "text": [
      "Face Detected in the image!\n"
     ]
    }
   ],
   "source": [
    "# Detect Face\n",
    "thres_1 = 3000 # Chosen threshold to detect face\n",
    "projected_new_img_vect=eigenfaces[:q].T @ E#Perform Linear combination for the new face space\n",
    "diff = mean_sub_testimg-projected_new_img_vect\n",
    "beta = math.sqrt(diff.dot(diff))#Find the difference between the projected test image vector and the mean vector of the images\n",
    "if beta<thres_1:\n",
    "    print(\"Face Detected in the image!\")\n",
    "else:\n",
    "    print(\"No face Detected in the image!\")"
   ]
  },
  {
   "cell_type": "code",
   "execution_count": 55,
   "metadata": {},
   "outputs": [
    {
     "name": "stdout",
     "output_type": "stream",
     "text": [
      "The image matches the dataset of face in folder:  \\s9\n"
     ]
    },
    {
     "data": {
      "image/png": "[encoded data removed]",
      "text/plain": [
       "<Figure size 432x288 with 1 Axes>"
      ]
     },
     "metadata": {
      "needs_background": "light"
     },
     "output_type": "display_data"
    }
   ],
   "source": [
    "#Classify the image belongs to which class\n",
    "thres_2 = 3000\n",
    "smallest_value =None # to keep track of the smallest value\n",
    "index = None #to keep track of the class that produces the smallest value\n",
    "for z in range(tot_images):#Loop through all the image vectors\n",
    "    E_z=eigenfaces[:q].dot(A_tilde[z])#Calculate and represent the vectors of the image in the dataset\n",
    "    diff = E-E_z\n",
    "    epsilon_z = math.sqrt(diff.dot(diff))\n",
    "    if smallest_value==None:\n",
    "        smallest_value=epsilon_z\n",
    "        index = z\n",
    "    if smallest_value>epsilon_z:\n",
    "        smallest_value=epsilon_z\n",
    "        index=z\n",
    "if smallest_value<thres_2:\n",
    "    print(\"The image matches the dataset of face in folder: \",names[index])\n",
    "    plt.imshow(all_img[index],cmap='gray')\n",
    "    plt.show()\n",
    "else:\n",
    "    print(\"unknown Face\")"
   ]
  },
  {
   "cell_type": "code",
   "execution_count": null,
   "metadata": {},
   "outputs": [],
   "source": []
  }
 ],
 "metadata": {
  "kernelspec": {
   "display_name": "Python 3",
   "language": "python",
   "name": "python3"
  },
  "language_info": {
   "codemirror_mode": {
    "name": "ipython",
    "version": 3
   },
   "file_extension": ".py",
   "mimetype": "text/x-python",
   "name": "python",
   "nbconvert_exporter": "python",
   "pygments_lexer": "ipython3",
   "version": "3.7.7"
  }
 },
 "nbformat": 4,
 "nbformat_minor": 4
}
